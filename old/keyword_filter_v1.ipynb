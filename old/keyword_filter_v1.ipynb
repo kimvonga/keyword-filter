{
 "cells": [
  {
   "cell_type": "code",
   "execution_count": 1,
   "metadata": {
    "code_folding": [
     0
    ]
   },
   "outputs": [],
   "source": [
    "# || Header || v 1.0.0\n",
    "import numpy as np\n",
    "import pandas as pd\n",
    "import math\n",
    "from scipy import stats\n",
    "import linecache\n",
    "import ipywidgets as widgets\n",
    "from pdfminer.pdfinterp import PDFResourceManager, PDFPageInterpreter\n",
    "from pdfminer.pdfpage import PDFPage\n",
    "from pdfminer.converter import XMLConverter, HTMLConverter, TextConverter\n",
    "from pdfminer.layout import LAParams\n",
    "import io\n",
    "import os\n",
    "from importlib import reload\n",
    "from rake_nltk import Rake\n",
    "import keyword_lib as lib"
   ]
  },
  {
   "cell_type": "code",
   "execution_count": 2,
   "metadata": {},
   "outputs": [],
   "source": [
    "financial_keywords = ['investment management', 'investment', 'finance' ]\n",
    "keywords = ['Biosimilar', 'Otezla', 'Omecamtiv mecarbil', 'Aimovig', 'AMG 510', 'Neulasta', 'Onpro', 'M&A', 'Enbrel', 'Expense', 'Guidance',\n",
    "           'Payer mix', 'BiTE', 'Parsabiv', 'BD', 'margin', 'COVID Impact', 'Adaptive colab' ,'Inventory', 'Telemedicine', 'PD1', 'Aimovig',\n",
    "           'IL2', 'Drug pricing', 'Omecamtiv mecarbil', 'Tezepelumab', 'prolia', 'executive orders', 'neulasta onpro', 'Sotorasib', 'COVID',\n",
    "           'AMG510', 'Repatha', 'EVENITY']\n",
    "keywords = [i.lower() for i in keywords] + [i.lower() for i in financial_keywords]    # make case insensitive and append\n",
    "keywords = list(set(keywords))                                                        # remove duplicates"
   ]
  },
  {
   "cell_type": "code",
   "execution_count": 3,
   "metadata": {
    "code_folding": [
     0
    ]
   },
   "outputs": [],
   "source": [
    "# Finds all .pdf files in given directory\n",
    "my_dir = '/home/andy/OneDrive/Python/forMinh/pdfs/'\n",
    "pdfs = []\n",
    "for filename in os.listdir(my_dir):\n",
    "    if filename.endswith('.pdf'):\n",
    "        pdfs += [filename]"
   ]
  },
  {
   "cell_type": "code",
   "execution_count": 4,
   "metadata": {
    "code_folding": [
     0
    ]
   },
   "outputs": [],
   "source": [
    "# Creates a dataframe of all .pdf files with columns [object, company, quarter]\n",
    "df = pd.DataFrame(columns=['object', 'company', 'quarter'])\n",
    "for filename in pdfs:\n",
    "    f = lib.Transcript(my_dir, filename)\n",
    "    df = df.append({'object': f, 'company': f.company, 'quarter': f.quarter}, ignore_index=True)"
   ]
  },
  {
   "cell_type": "code",
   "execution_count": null,
   "metadata": {
    "code_folding": [
     0
    ],
    "scrolled": false
   },
   "outputs": [],
   "source": [
    "# Widget to choose which file, according to company name and financial quarter, and generate an output\n",
    "c_select = widgets.Dropdown(options = ['Select Company'] + list(set(df.company)), description='Company:')\n",
    "q_select = widgets.Dropdown(options = ['Select Quarter'], description='Quarter:')\n",
    "r_select = widgets.Dropdown(options = ['Management', 'Q&A'], description='Report Type:')\n",
    "button = widgets.Button(description='Run')\n",
    "output = widgets.Output()\n",
    "\n",
    "def update_quarter(*args):\n",
    "    c_indices = df.index[df.company == c_select.value].tolist()\n",
    "    q_select.options=df.quarter[c_indices]\n",
    "c_select.observe(update_quarter, 'value')\n",
    "\n",
    "def showOutput(btn):\n",
    "    output.clear_output()\n",
    "    c_indices = df.index[df.company == c_select.value].tolist()\n",
    "    my_index = df.index[df.quarter[c_indices] == q_select.value][0]\n",
    "    return_value = (c_select.value, q_select.value, r_select.value)\n",
    "    if r_select.value == 'Management':\n",
    "        report = df.object[my_index].keywordsByManagement(keywords)\n",
    "    elif r_select.value == 'Q&A':\n",
    "        report = df.object[my_index].keywordsByQuestioner(keywords)[1]\n",
    "    with output:\n",
    "        print(return_value[2]+' report for '+return_value[0]+' '+return_value[1])\n",
    "        display(pd.DataFrame(report, columns=['keyword', 'count']))\n",
    "\n",
    "button.on_click(showOutput)\n",
    "\n",
    "ui=widgets.HBox([c_select, q_select, r_select, button])\n",
    "display(ui, output)"
   ]
  },
  {
   "cell_type": "code",
   "execution_count": null,
   "metadata": {},
   "outputs": [],
   "source": []
  }
 ],
 "metadata": {
  "hide_input": false,
  "kernelspec": {
   "display_name": "Python 3",
   "language": "python",
   "name": "python3"
  },
  "language_info": {
   "codemirror_mode": {
    "name": "ipython",
    "version": 3
   },
   "file_extension": ".py",
   "mimetype": "text/x-python",
   "name": "python",
   "nbconvert_exporter": "python",
   "pygments_lexer": "ipython3",
   "version": "3.6.8"
  }
 },
 "nbformat": 4,
 "nbformat_minor": 2
}
