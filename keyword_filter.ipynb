{
 "cells": [
  {
   "cell_type": "code",
   "execution_count": null,
   "metadata": {
    "code_folding": [
     0
    ]
   },
   "outputs": [],
   "source": [
    "# || Header || v 2.0.0\n",
    "import numpy as np\n",
    "import pandas as pd\n",
    "from matplotlib import pyplot as plt\n",
    "import math\n",
    "from scipy import stats\n",
    "import linecache\n",
    "import ipywidgets as widgets\n",
    "from pdfminer.pdfinterp import PDFResourceManager, PDFPageInterpreter\n",
    "from pdfminer.pdfpage import PDFPage\n",
    "from pdfminer.converter import XMLConverter, HTMLConverter, TextConverter\n",
    "from pdfminer.layout import LAParams\n",
    "import io\n",
    "import os\n",
    "from importlib import reload\n",
    "from rake_nltk import Rake\n",
    "import keyword_lib as lib\n",
    "from nltk.corpus import words\n",
    "import string"
   ]
  },
  {
   "cell_type": "code",
   "execution_count": null,
   "metadata": {},
   "outputs": [],
   "source": [
    "financial_keywords = ['investment management', 'investment', 'finance' ]\n",
    "keywords = ['Biosimilar', 'Otezla', 'Omecamtiv mecarbil', 'Aimovig', 'AMG 510', 'Neulasta', 'Onpro', 'M&A', 'Enbrel', 'Expense', 'Guidance',\n",
    "           'Payer mix', 'BiTE', 'Parsabiv', 'BD', 'margin', 'COVID Impact', 'Adaptive colab' ,'Inventory', 'Telemedicine', 'PD1', 'Aimovig',\n",
    "           'IL2', 'Drug pricing', 'Omecamtiv mecarbil', 'Tezepelumab', 'prolia', 'executive orders', 'neulasta onpro', 'Sotorasib', 'COVID',\n",
    "           'AMG510', 'Repatha', 'EVENITY', 'biospecific']\n",
    "keywords = [i.lower() for i in keywords] + [i.lower() for i in financial_keywords]    # make case insensitive and append\n",
    "keywords = list(set(keywords))                                                        # remove duplicates"
   ]
  },
  {
   "cell_type": "code",
   "execution_count": null,
   "metadata": {
    "code_folding": [
     0
    ]
   },
   "outputs": [],
   "source": [
    "# Finds all .pdf files in given directory\n",
    "my_dir = '/home/andy/OneDrive/Python/forMinh/more_pdfs/'\n",
    "pdfs = []\n",
    "for filename in os.listdir(my_dir):\n",
    "    if filename.endswith('.pdf'):\n",
    "        pdfs += [filename]"
   ]
  },
  {
   "cell_type": "code",
   "execution_count": null,
   "metadata": {
    "code_folding": [
     0
    ]
   },
   "outputs": [],
   "source": [
    "# Creates a dataframe of all .pdf files with columns [object, company, quarter]\n",
    "df = pd.DataFrame(columns=['object', 'company', 'quarter'])\n",
    "for filename in pdfs:\n",
    "    f = lib.Transcript(my_dir, filename)\n",
    "    df = df.append({'object': f, 'company': f.company, 'quarter': f.quarter}, ignore_index=True)"
   ]
  },
  {
   "cell_type": "code",
   "execution_count": null,
   "metadata": {
    "code_folding": [
     0
    ],
    "scrolled": true
   },
   "outputs": [],
   "source": [
    "# Widget to choose which file, according to company name and financial quarter, and generate an output\n",
    "c_select = widgets.Dropdown(options = ['Select Company'] + list(set(df.company)), description='Company:')\n",
    "q_select = widgets.Dropdown(options = ['Select Quarter'], description='Quarter:')\n",
    "s_select = widgets.Dropdown(options = ['Rake', 'Manual'], description='Search Type:')\n",
    "r_select = widgets.Dropdown(options = ['Management', 'Q&A'], description='Report Type:')\n",
    "button = widgets.Button(description='Run')\n",
    "output = widgets.Output()\n",
    "\n",
    "def update_quarter(*args):\n",
    "    c_indices = df.index[df.company == c_select.value].tolist()\n",
    "    q_select.options=df.quarter[c_indices]\n",
    "c_select.observe(update_quarter, 'value')\n",
    "\n",
    "def update_report(*args):\n",
    "    if s_select.value == 'Rake':\n",
    "        r_select.options = ['Management']\n",
    "    elif s_select.value == 'Manual':\n",
    "        r_select.options = ['Management', 'Q&A']\n",
    "s_select.observe(update_report, 'value')\n",
    "\n",
    "def showOutput(btn):\n",
    "    output.clear_output()\n",
    "    c_indices = df.index[df.company == c_select.value].tolist()\n",
    "    my_index = np.where(np.array(df.quarter[c_indices]) == q_select.value)[0][0]\n",
    "    return_value = (c_select.value, q_select.value, s_select.value, r_select.value)\n",
    "    if s_select.value == 'Manual' and r_select.value == 'Management':\n",
    "        report = df.object[my_index].keywordsByManagementManual(keywords)\n",
    "    elif s_select.value == 'Manual' and r_select.value == 'Q&A':\n",
    "        report = df.object[my_index].keywordsByQuestionerManual(keywords)[1]\n",
    "    elif s_select.value == 'Rake' and r_select.value == 'Management':\n",
    "        report = df.object[my_index].keywordsByManagementRake()\n",
    "    with output:\n",
    "        print(return_value[3]+' report '+' ('+return_value[2]+') '+'for '+return_value[0]+' '+return_value[1])\n",
    "        \n",
    "        threshold = np.round(np.sum([i[1] for i in report])/4)\n",
    "\n",
    "        indices = []\n",
    "        my_val = 0\n",
    "        for i in range(len(report)):\n",
    "            my_val += report[i][1]\n",
    "            if my_val >= threshold:\n",
    "                my_val = 0\n",
    "                indices += [i]\n",
    "\n",
    "        r1 = pd.DataFrame(report[:indices[0]+1], columns=['keyword', 'rank'])\n",
    "        r2 = pd.DataFrame(report[indices[0]+1:indices[1]+1], columns=['keyword', 'rank'])\n",
    "        r3 = pd.DataFrame(report[indices[1]+1:indices[2]+1], columns=['keyword', 'rank'])\n",
    "        r4 = pd.DataFrame(report[indices[2]+1:], columns=['keyword', 'rank'])\n",
    "\n",
    "        lib.display_side_by_side(r4,r3,r2,r1, titles=['Quantile 4','Quantile 3','Quantile 2','Quantile 1'])\n",
    "\n",
    "button.on_click(showOutput)\n",
    "\n",
    "ui=widgets.HBox([c_select, q_select, s_select, r_select, button])\n",
    "display(ui, output)"
   ]
  },
  {
   "cell_type": "code",
   "execution_count": null,
   "metadata": {
    "code_folding": [
     0
    ]
   },
   "outputs": [],
   "source": [
    "# Widget to track occurences of keywords through financial quarters\n",
    "%matplotlib notebook\n",
    "c_select = widgets.Dropdown(options = ['Select Company'] + list(set(df.company)), description='Company:')\n",
    "r_select = widgets.Dropdown(options = ['Management', 'Q&A'], description='Report Type:')\n",
    "button = widgets.Button(description='Run')\n",
    "k_select = widgets.Dropdown(options = ['Select Keyword'], description='Keyword:')\n",
    "plot_button = widgets.Button(description='Plot')\n",
    "val_holder = widgets.Dropdown(description='temporary value holder')\n",
    "output = widgets.Output()\n",
    "\n",
    "ui=widgets.HBox([c_select, r_select, button, k_select, plot_button])\n",
    "display(ui)\n",
    "\n",
    "def preprocess(btn):\n",
    "    c_indices = df.index[df.company == c_select.value].tolist()\n",
    "\n",
    "    if r_select.value == 'Management':\n",
    "        my_dict = {}\n",
    "        for index in c_indices:\n",
    "            my_dict[df.quarter[index]] = df.object[index].keywordsByManagementManual(keywords)\n",
    "    elif r_select.value == 'Q&A':\n",
    "        my_dict = {}\n",
    "        for index in c_indices:\n",
    "            my_dict[df.quarter[index]] = df.object[index].keywordsByQuestionerManual(keywords)\n",
    "\n",
    "    avail_keywords = []\n",
    "    for i in my_dict:\n",
    "        for j in my_dict[str(i)]:\n",
    "            avail_keywords += [j[0]]\n",
    "    avail_keywords = list(set(avail_keywords))\n",
    "\n",
    "    val_holder.options = my_dict\n",
    "    k_select.options = avail_keywords\n",
    "\n",
    "button.on_click(preprocess)\n",
    "fig = plt.figure()\n",
    "\n",
    "def plotKeyword(btn):\n",
    "    plt.clf()\n",
    "\n",
    "    my_dict = val_holder.options\n",
    "    my_keyword = k_select.value\n",
    "    keyword_freq = []\n",
    "    for i in my_dict:\n",
    "        my_val = 0\n",
    "        for j in my_dict[str(i)]:\n",
    "            if j[0] == my_keyword:\n",
    "                my_val = j[1]\n",
    "        keyword_freq += [(str(i), my_val)]\n",
    "\n",
    "    plt.plot([i[0] for i in keyword_freq], [i[1] for i in keyword_freq], 's')\n",
    "\n",
    "    plt.xlabel('Financial Quarter')\n",
    "    plt.title('Mentions of \\\"'+str(k_select.value)+'\\\"')\n",
    "    plt.grid(False)\n",
    "\n",
    "plot_button.on_click(plotKeyword)"
   ]
  },
  {
   "cell_type": "code",
   "execution_count": null,
   "metadata": {},
   "outputs": [],
   "source": []
  },
  {
   "cell_type": "code",
   "execution_count": null,
   "metadata": {},
   "outputs": [],
   "source": []
  },
  {
   "cell_type": "markdown",
   "metadata": {
    "heading_collapsed": true
   },
   "source": [
    "#### Scrap section. Working on adding Rake to Q&A section"
   ]
  },
  {
   "cell_type": "code",
   "execution_count": null,
   "metadata": {
    "hidden": true
   },
   "outputs": [],
   "source": [
    "my_dict = val_holder.options"
   ]
  },
  {
   "cell_type": "code",
   "execution_count": null,
   "metadata": {
    "hidden": true
   },
   "outputs": [],
   "source": [
    "my_dict"
   ]
  },
  {
   "cell_type": "code",
   "execution_count": null,
   "metadata": {
    "hidden": true
   },
   "outputs": [],
   "source": [
    "my_keyword = k_select.value\n",
    "keyword_freq = []\n",
    "for i in my_dict:\n",
    "    my_val = 0\n",
    "    for j in my_dict[str(i)]:\n",
    "        if j[0] == my_keyword:\n",
    "            my_val = j[1]\n",
    "    keyword_freq += [(str(i), my_val)]"
   ]
  },
  {
   "cell_type": "code",
   "execution_count": null,
   "metadata": {
    "hidden": true
   },
   "outputs": [],
   "source": [
    "keyword_freq"
   ]
  },
  {
   "cell_type": "code",
   "execution_count": null,
   "metadata": {
    "hidden": true
   },
   "outputs": [],
   "source": []
  },
  {
   "cell_type": "code",
   "execution_count": null,
   "metadata": {
    "hidden": true
   },
   "outputs": [],
   "source": []
  },
  {
   "cell_type": "code",
   "execution_count": null,
   "metadata": {
    "hidden": true
   },
   "outputs": [],
   "source": []
  },
  {
   "cell_type": "code",
   "execution_count": null,
   "metadata": {
    "hidden": true
   },
   "outputs": [],
   "source": [
    "df"
   ]
  },
  {
   "cell_type": "code",
   "execution_count": null,
   "metadata": {
    "hidden": true
   },
   "outputs": [],
   "source": []
  },
  {
   "cell_type": "code",
   "execution_count": null,
   "metadata": {
    "hidden": true
   },
   "outputs": [],
   "source": [
    "r = Rake()"
   ]
  },
  {
   "cell_type": "code",
   "execution_count": null,
   "metadata": {
    "hidden": true
   },
   "outputs": [],
   "source": [
    "r.extract_keywords_from_text(df.object[0].qa_paras[0])"
   ]
  },
  {
   "cell_type": "code",
   "execution_count": null,
   "metadata": {
    "hidden": true
   },
   "outputs": [],
   "source": [
    "a = r.get_word_degrees()"
   ]
  },
  {
   "cell_type": "code",
   "execution_count": null,
   "metadata": {
    "hidden": true
   },
   "outputs": [],
   "source": [
    "my_company = df.object[0].company"
   ]
  },
  {
   "cell_type": "code",
   "execution_count": null,
   "metadata": {
    "hidden": true
   },
   "outputs": [],
   "source": [
    "names = []\n",
    "for i in df.object[0].management_paras:\n",
    "    my_words = lib.removePunctuation(i.split()[:20], ref=string.punctuation)\n",
    "    if my_words[0].lower() != 'operator':\n",
    "        names += [my_words[0].lower(), my_words[1].lower()]\n",
    "        for i in range(2, len(my_words)):\n",
    "            if my_words[i].lower() not in exclusion_list:\n",
    "                names += [my_words[i].lower()]\n",
    "            else:\n",
    "                break\n",
    "names = list(set(names))"
   ]
  },
  {
   "cell_type": "code",
   "execution_count": null,
   "metadata": {
    "hidden": true
   },
   "outputs": [],
   "source": [
    "a = sorted(a.items(), key=lambda x: -x[1])"
   ]
  },
  {
   "cell_type": "code",
   "execution_count": null,
   "metadata": {
    "hidden": true
   },
   "outputs": [],
   "source": [
    "indices = []\n",
    "for i in range(len(a)):\n",
    "    if not checkForms(a[i][0], exclusion_list) and not a[i][0].isnumeric() and a[i][0] not in my_company.lower().split() and a[i][0] not in names:\n",
    "        my_val = 0\n",
    "        for c in a[i][0]:\n",
    "            if c in string.punctuation:\n",
    "                my_val += 1\n",
    "        if my_val == 0:\n",
    "            indices += [i]\n",
    "b = combinePlurals([a[i] for i in indices])"
   ]
  },
  {
   "cell_type": "code",
   "execution_count": null,
   "metadata": {
    "hidden": true
   },
   "outputs": [],
   "source": [
    "b"
   ]
  },
  {
   "cell_type": "code",
   "execution_count": null,
   "metadata": {
    "hidden": true
   },
   "outputs": [],
   "source": []
  },
  {
   "cell_type": "code",
   "execution_count": null,
   "metadata": {
    "hidden": true
   },
   "outputs": [],
   "source": []
  },
  {
   "cell_type": "code",
   "execution_count": null,
   "metadata": {
    "hidden": true
   },
   "outputs": [],
   "source": []
  }
 ],
 "metadata": {
  "hide_input": false,
  "kernelspec": {
   "display_name": "Python 3",
   "language": "python",
   "name": "python3"
  },
  "language_info": {
   "codemirror_mode": {
    "name": "ipython",
    "version": 3
   },
   "file_extension": ".py",
   "mimetype": "text/x-python",
   "name": "python",
   "nbconvert_exporter": "python",
   "pygments_lexer": "ipython3",
   "version": "3.6.8"
  }
 },
 "nbformat": 4,
 "nbformat_minor": 2
}
